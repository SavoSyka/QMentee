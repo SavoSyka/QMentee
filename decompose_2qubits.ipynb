{
  "nbformat": 4,
  "nbformat_minor": 0,
  "metadata": {
    "colab": {
      "provenance": [],
      "authorship_tag": "ABX9TyPBBWR6VrlsLudDL14yb3oQ",
      "include_colab_link": true
    },
    "kernelspec": {
      "name": "python3",
      "display_name": "Python 3"
    },
    "language_info": {
      "name": "python"
    }
  },
  "cells": [
    {
      "cell_type": "markdown",
      "metadata": {
        "id": "view-in-github",
        "colab_type": "text"
      },
      "source": [
        "<a href=\"https://colab.research.google.com/github/SavoSyka/QMentee/blob/main/decompose_2qubits.ipynb\" target=\"_parent\"><img src=\"https://colab.research.google.com/assets/colab-badge.svg\" alt=\"Open In Colab\"/></a>"
      ]
    },
    {
      "cell_type": "code",
      "execution_count": 1,
      "metadata": {
        "colab": {
          "base_uri": "https://localhost:8080/"
        },
        "id": "jcBRWzBRyGhg",
        "outputId": "655c5fbb-79d5-4768-af9c-d72fe773eb5a"
      },
      "outputs": [
        {
          "output_type": "stream",
          "name": "stdout",
          "text": [
            "  Preparing metadata (setup.py) ... \u001b[?25l\u001b[?25hdone\n",
            "\u001b[2K     \u001b[90m━━━━━━━━━━━━━━━━━━━━━━━━━━━━━━━━━━━━━━━━\u001b[0m \u001b[32m5.1/5.1 MB\u001b[0m \u001b[31m36.9 MB/s\u001b[0m eta \u001b[36m0:00:00\u001b[0m\n",
            "\u001b[2K     \u001b[90m━━━━━━━━━━━━━━━━━━━━━━━━━━━━━━━━━━━━━━━━\u001b[0m \u001b[32m12.8/12.8 MB\u001b[0m \u001b[31m51.8 MB/s\u001b[0m eta \u001b[36m0:00:00\u001b[0m\n",
            "\u001b[2K     \u001b[90m━━━━━━━━━━━━━━━━━━━━━━━━━━━━━━━━━━━━━━\u001b[0m \u001b[32m241.5/241.5 kB\u001b[0m \u001b[31m14.1 MB/s\u001b[0m eta \u001b[36m0:00:00\u001b[0m\n",
            "\u001b[2K     \u001b[90m━━━━━━━━━━━━━━━━━━━━━━━━━━━━━━━━━━━━━━━\u001b[0m \u001b[32m129.5/129.5 kB\u001b[0m \u001b[31m5.3 MB/s\u001b[0m eta \u001b[36m0:00:00\u001b[0m\n",
            "\u001b[2K     \u001b[90m━━━━━━━━━━━━━━━━━━━━━━━━━━━━━━━━━━━━━━━\u001b[0m \u001b[32m110.5/110.5 kB\u001b[0m \u001b[31m6.6 MB/s\u001b[0m eta \u001b[36m0:00:00\u001b[0m\n",
            "\u001b[2K     \u001b[90m━━━━━━━━━━━━━━━━━━━━━━━━━━━━━━━━━━━━━━━━\u001b[0m \u001b[32m1.9/1.9 MB\u001b[0m \u001b[31m41.9 MB/s\u001b[0m eta \u001b[36m0:00:00\u001b[0m\n",
            "\u001b[2K     \u001b[90m━━━━━━━━━━━━━━━━━━━━━━━━━━━━━━━━━━━━━━━━\u001b[0m \u001b[32m37.5/37.5 MB\u001b[0m \u001b[31m9.9 MB/s\u001b[0m eta \u001b[36m0:00:00\u001b[0m\n",
            "\u001b[2K     \u001b[90m━━━━━━━━━━━━━━━━━━━━━━━━━━━━━━━━━━━━━━━━\u001b[0m \u001b[32m49.6/49.6 kB\u001b[0m \u001b[31m3.0 MB/s\u001b[0m eta \u001b[36m0:00:00\u001b[0m\n",
            "\u001b[2K     \u001b[90m━━━━━━━━━━━━━━━━━━━━━━━━━━━━━━━━━━━━━━━━\u001b[0m \u001b[32m49.6/49.6 kB\u001b[0m \u001b[31m1.9 MB/s\u001b[0m eta \u001b[36m0:00:00\u001b[0m\n",
            "\u001b[2K     \u001b[90m━━━━━━━━━━━━━━━━━━━━━━━━━━━━━━━━━━━━━━━\u001b[0m \u001b[32m112.7/112.7 kB\u001b[0m \u001b[31m5.8 MB/s\u001b[0m eta \u001b[36m0:00:00\u001b[0m\n",
            "\u001b[?25h  Building wheel for qiskit (setup.py) ... \u001b[?25l\u001b[?25hdone\n",
            "\u001b[2K     \u001b[90m━━━━━━━━━━━━━━━━━━━━━━━━━━━━━━━━━━━━━━━\u001b[0m \u001b[32m162.6/162.6 kB\u001b[0m \u001b[31m5.7 MB/s\u001b[0m eta \u001b[36m0:00:00\u001b[0m\n",
            "\u001b[?25h  Preparing metadata (setup.py) ... \u001b[?25l\u001b[?25hdone\n",
            "  Building wheel for pylatexenc (setup.py) ... \u001b[?25l\u001b[?25hdone\n"
          ]
        }
      ],
      "source": [
        "! pip install qiskit --quiet\n",
        "! pip install pylatexenc --quiet\n",
        "     "
      ]
    },
    {
      "cell_type": "code",
      "source": [
        "from qiskit import QuantumCircuit, assemble, Aer\n",
        "from qiskit_aer import AerSimulator\n",
        "from qiskit.visualization import plot_histogram, plot_bloch_vector\n",
        "from math import sqrt, pi\n",
        "\n",
        "from random import randint"
      ],
      "metadata": {
        "id": "XKWctEU4yPNF"
      },
      "execution_count": 2,
      "outputs": []
    },
    {
      "cell_type": "code",
      "source": [
        "amount_of_qubits = randint(2, 7)\n",
        "amount_of_blocks = randint(1,7)"
      ],
      "metadata": {
        "id": "jAkvViywy35M"
      },
      "execution_count": 33,
      "outputs": []
    },
    {
      "cell_type": "code",
      "source": [
        "qc = QuantumCircuit(amount_of_qubits)\n",
        "for i in range (0, amount_of_blocks):\n",
        "  am_of_gates = 2\n",
        "\n",
        "  if am_of_gates == 2:\n",
        "    qub1 = randint(0,amount_of_qubits-1)\n",
        "    qub2 = randint(0,amount_of_qubits-1)\n",
        "    while (qub2 == qub1):\n",
        "      qub2 = randint(0,amount_of_qubits-1)\n",
        "    qub_type = randint(0,3)\n",
        "    #print (qub1, qub2)\n",
        "    if qub_type == 0:\n",
        "      qc.cx(qub1, qub2)\n",
        "    if qub_type == 1:\n",
        "      qc.cz(qub1, qub2)\n",
        "    if qub_type == 2:\n",
        "      qc.swap(qub1, qub2)\n",
        "    if qub_type == 3:\n",
        "      qc.iswap(qub1, qub2)\n",
        "  "
      ],
      "metadata": {
        "id": "-pyo8d_byUm1"
      },
      "execution_count": 34,
      "outputs": []
    },
    {
      "cell_type": "code",
      "source": [
        "qc.draw('mpl')\n"
      ],
      "metadata": {
        "colab": {
          "base_uri": "https://localhost:8080/",
          "height": 320
        },
        "id": "aijRaqdqyX-b",
        "outputId": "7ee96e28-63ac-4645-d2b1-94219ffff82d"
      },
      "execution_count": 35,
      "outputs": [
        {
          "output_type": "execute_result",
          "data": {
            "text/plain": [
              "<Figure size 621.941x367.889 with 1 Axes>"
            ],
            "image/png": "[encoded data removed]"
          },
          "metadata": {},
          "execution_count": 35
        }
      ]
    },
    {
      "cell_type": "code",
      "source": [
        "qc.data"
      ],
      "metadata": {
        "colab": {
          "base_uri": "https://localhost:8080/"
        },
        "id": "9ulIPtLhyZ5V",
        "outputId": "69001323-5c6c-484f-f1ed-3cfc27c0901b"
      },
      "execution_count": 36,
      "outputs": [
        {
          "output_type": "execute_result",
          "data": {
            "text/plain": [
              "[CircuitInstruction(operation=Instruction(name='iswap', num_qubits=2, num_clbits=0, params=[]), qubits=(Qubit(QuantumRegister(4, 'q'), 1), Qubit(QuantumRegister(4, 'q'), 2)), clbits=()), CircuitInstruction(operation=Instruction(name='cz', num_qubits=2, num_clbits=0, params=[]), qubits=(Qubit(QuantumRegister(4, 'q'), 1), Qubit(QuantumRegister(4, 'q'), 2)), clbits=()), CircuitInstruction(operation=Instruction(name='swap', num_qubits=2, num_clbits=0, params=[]), qubits=(Qubit(QuantumRegister(4, 'q'), 3), Qubit(QuantumRegister(4, 'q'), 1)), clbits=()), CircuitInstruction(operation=Instruction(name='iswap', num_qubits=2, num_clbits=0, params=[]), qubits=(Qubit(QuantumRegister(4, 'q'), 2), Qubit(QuantumRegister(4, 'q'), 3)), clbits=())]"
            ]
          },
          "metadata": {},
          "execution_count": 36
        }
      ]
    },
    {
      "cell_type": "code",
      "source": [
        "j = 0\n",
        "decomp_circ = QuantumCircuit(amount_of_qubits)\n",
        "for i in qc.data:\n",
        "  #print (i[0].name)\n",
        "  if i[0].name == 'cz':\n",
        "    q1 = qc.data[j].qubits[0].index\n",
        "    q2 = qc.data[j].qubits[1].index\n",
        "    print('cz', q1,q2)\n",
        "    decomp_circ.cz(q1,q2)\n",
        "  if i[0].name == 'cx':\n",
        "    \n",
        "    q1 = qc.data[j].qubits[0].index\n",
        "    q2 = qc.data[j].qubits[1].index\n",
        "    print('cx', q1,q2)\n",
        "    decomp_circ.h(q2)\n",
        "    decomp_circ.cx(q1,q2)\n",
        "    decomp_circ.h(q2)\n",
        "  if i[0].name == 'swap':\n",
        "    #print(1)\n",
        "    q1 = qc.data[j].qubits[0].index\n",
        "    q2 = qc.data[j].qubits[1].index\n",
        "    print('swap', q1,q2)\n",
        "    decomp_circ.h(q2)\n",
        "    decomp_circ.cz(q1,q2)\n",
        "    decomp_circ.h(q2)\n",
        "\n",
        "    decomp_circ.h(q1)\n",
        "    decomp_circ.cz(q2,q1)\n",
        "    decomp_circ.h(q1)\n",
        "\n",
        "    decomp_circ.h(q2)\n",
        "    decomp_circ.cz(q1,q2)\n",
        "    decomp_circ.h(q2)\n",
        "  if i[0].name == 'iswap':\n",
        "    q1 = qc.data[j].qubits[0].index\n",
        "    q2 = qc.data[j].qubits[1].index\n",
        "    print('iswap', q1,q2)\n",
        "    decomp_circ.s(q1)\n",
        "    decomp_circ.s(q2)\n",
        "    decomp_circ.h(q1)\n",
        "    decomp_circ.cx(q1,q2)\n",
        "    decomp_circ.cx(q2,q1)\n",
        "    decomp_circ.h(q2)\n",
        "\n",
        "\n",
        "\n",
        "  \n",
        "\n",
        "  j+=1\n",
        "decomp_circ.draw('mpl')"
      ],
      "metadata": {
        "colab": {
          "base_uri": "https://localhost:8080/",
          "height": 618
        },
        "id": "V5B4e7ewydBN",
        "outputId": "d1c5bec3-c1b3-4206-c40a-dffe49ed6ae7"
      },
      "execution_count": 37,
      "outputs": [
        {
          "output_type": "stream",
          "name": "stderr",
          "text": [
            "<ipython-input-37-34c097107aba>:35: DeprecationWarning: 'Bit.index' is deprecated since Qiskit Terra 0.17 and will be removed in a future release. Bits may be in more than one register. Use 'QuantumCircuit.find_bit' to find all the containing registers within a circuit, and the index of the bit within the circuit.\n",
            "  q1 = qc.data[j].qubits[0].index\n",
            "<ipython-input-37-34c097107aba>:36: DeprecationWarning: 'Bit.index' is deprecated since Qiskit Terra 0.17 and will be removed in a future release. Bits may be in more than one register. Use 'QuantumCircuit.find_bit' to find all the containing registers within a circuit, and the index of the bit within the circuit.\n",
            "  q2 = qc.data[j].qubits[1].index\n",
            "<ipython-input-37-34c097107aba>:6: DeprecationWarning: 'Bit.index' is deprecated since Qiskit Terra 0.17 and will be removed in a future release. Bits may be in more than one register. Use 'QuantumCircuit.find_bit' to find all the containing registers within a circuit, and the index of the bit within the circuit.\n",
            "  q1 = qc.data[j].qubits[0].index\n",
            "<ipython-input-37-34c097107aba>:7: DeprecationWarning: 'Bit.index' is deprecated since Qiskit Terra 0.17 and will be removed in a future release. Bits may be in more than one register. Use 'QuantumCircuit.find_bit' to find all the containing registers within a circuit, and the index of the bit within the circuit.\n",
            "  q2 = qc.data[j].qubits[1].index\n",
            "<ipython-input-37-34c097107aba>:20: DeprecationWarning: 'Bit.index' is deprecated since Qiskit Terra 0.17 and will be removed in a future release. Bits may be in more than one register. Use 'QuantumCircuit.find_bit' to find all the containing registers within a circuit, and the index of the bit within the circuit.\n",
            "  q1 = qc.data[j].qubits[0].index\n",
            "<ipython-input-37-34c097107aba>:21: DeprecationWarning: 'Bit.index' is deprecated since Qiskit Terra 0.17 and will be removed in a future release. Bits may be in more than one register. Use 'QuantumCircuit.find_bit' to find all the containing registers within a circuit, and the index of the bit within the circuit.\n",
            "  q2 = qc.data[j].qubits[1].index\n"
          ]
        },
        {
          "output_type": "stream",
          "name": "stdout",
          "text": [
            "iswap 1 2\n",
            "cz 1 2\n",
            "swap 3 1\n",
            "iswap 2 3\n"
          ]
        },
        {
          "output_type": "execute_result",
          "data": {
            "text/plain": [
              "<Figure size 1458.05x367.889 with 1 Axes>"
            ],
            "image/png": "[encoded data removed]"
          },
          "metadata": {},
          "execution_count": 37
        }
      ]
    },
    {
      "cell_type": "code",
      "source": [],
      "metadata": {
        "id": "SPbeAuliyeey"
      },
      "execution_count": 37,
      "outputs": []
    }
  ]
}