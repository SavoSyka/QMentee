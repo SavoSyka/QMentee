{
  "nbformat": 4,
  "nbformat_minor": 0,
  "metadata": {
    "colab": {
      "provenance": [],
      "authorship_tag": "ABX9TyM/piDvmg4l3czn4aADKZC+",
      "include_colab_link": true
    },
    "kernelspec": {
      "name": "python3",
      "display_name": "Python 3"
    },
    "language_info": {
      "name": "python"
    }
  },
  "cells": [
    {
      "cell_type": "markdown",
      "metadata": {
        "id": "view-in-github",
        "colab_type": "text"
      },
      "source": [
        "<a href=\"https://colab.research.google.com/github/SavoSyka/QMentee/blob/main/Random_circuit_generator.ipynb\" target=\"_parent\"><img src=\"https://colab.research.google.com/assets/colab-badge.svg\" alt=\"Open In Colab\"/></a>"
      ]
    },
    {
      "cell_type": "code",
      "execution_count": 33,
      "metadata": {
        "id": "Rl3icNd2rUwp"
      },
      "outputs": [],
      "source": [
        "! pip install qiskit --quiet\n",
        "! pip install pylatexenc --quiet\n",
        "     "
      ]
    },
    {
      "cell_type": "code",
      "source": [
        "from qiskit import QuantumCircuit, assemble, Aer\n",
        "from qiskit_aer import AerSimulator\n",
        "from qiskit.visualization import plot_histogram, plot_bloch_vector\n",
        "from math import sqrt, pi"
      ],
      "metadata": {
        "id": "FyElcPJ_rW94"
      },
      "execution_count": 34,
      "outputs": []
    },
    {
      "cell_type": "code",
      "source": [
        "\n",
        "from random import randint"
      ],
      "metadata": {
        "id": "OREvTZ6VrXVU"
      },
      "execution_count": 35,
      "outputs": []
    },
    {
      "cell_type": "code",
      "source": [
        "amount_of_qubits = randint(0, 7)\n",
        "amount_of_blocks = randint(0,7)"
      ],
      "metadata": {
        "id": "9HoHntSargO6"
      },
      "execution_count": 79,
      "outputs": []
    },
    {
      "cell_type": "code",
      "source": [
        "qc = QuantumCircuit(amount_of_qubits)"
      ],
      "metadata": {
        "id": "p4ZGYdyQsdIY"
      },
      "execution_count": 80,
      "outputs": []
    },
    {
      "cell_type": "code",
      "source": [
        "qc.draw('mpl')"
      ],
      "metadata": {
        "colab": {
          "base_uri": "https://localhost:8080/",
          "height": 320
        },
        "id": "X3by5_8jsn0a",
        "outputId": "22ef1cc7-416f-4133-9397-08395505ba50"
      },
      "execution_count": 81,
      "outputs": [
        {
          "output_type": "execute_result",
          "data": {
            "text/plain": [
              "<Figure size 162.08x367.889 with 1 Axes>"
            ],
            "image/png": "[encoded data removed]"
          },
          "metadata": {},
          "execution_count": 81
        }
      ]
    },
    {
      "cell_type": "code",
      "source": [
        "amount_of_qubits"
      ],
      "metadata": {
        "colab": {
          "base_uri": "https://localhost:8080/"
        },
        "id": "Lmxm5XCz68lm",
        "outputId": "3a412d21-e4b6-4c6a-edb2-41f69645a1bc"
      },
      "execution_count": 92,
      "outputs": [
        {
          "output_type": "execute_result",
          "data": {
            "text/plain": [
              "4"
            ]
          },
          "metadata": {},
          "execution_count": 92
        }
      ]
    },
    {
      "cell_type": "code",
      "source": [
        "for i in range (0, amount_of_blocks):\n",
        "  am_of_gates = 0\n",
        "  qub = 0\n",
        "  qub_type = 0\n",
        "  qub1 = 0\n",
        "  qub2 = 0\n",
        "  qub3 = 0 \n",
        "  am_of_gates = randint(1, 3)\n",
        "  if am_of_gates == 1:\n",
        "    qub = randint(0,amount_of_qubits-1)\n",
        "    qub_type  = randint(0,8)\n",
        "    if qub_type == 0:\n",
        "      qc.id(qub)\n",
        "    if qub_type == 1:\n",
        "      qc.h(qub)\n",
        "    if qub_type == 2:\n",
        "      qc.x(qub)\n",
        "    if qub_type == 3:\n",
        "      qc.y(qub)\n",
        "    if qub_type == 4:\n",
        "      qc.z(qub)\n",
        "    if qub_type == 5:\n",
        "      qc.s(qub)\n",
        "    if qub_type == 6:\n",
        "      qc.sdg(qub)\n",
        "    if qub_type == 7:\n",
        "      qc.t(qub)\n",
        "    if qub_type == 8:\n",
        "      qc.tdg(qub)\n",
        "  if am_of_gates == 2:\n",
        "    qub1 = randint(0,amount_of_qubits-1)\n",
        "    qub2 = randint(0,amount_of_qubits-1)\n",
        "    while (qub2 == qub1):\n",
        "      qub2 = randint(0,amount_of_qubits-1)\n",
        "    qub_type = randint(0,3)\n",
        "    #print (qub1, qub2)\n",
        "    if qub_type == 0:\n",
        "      qc.cx(qub1, qub2)\n",
        "    if qub_type == 1:\n",
        "      qc.cz(qub1, qub2)\n",
        "    if qub_type == 2:\n",
        "      qc.swap(qub1, qub2)\n",
        "    if qub_type == 3:\n",
        "      qc.iswap(qub1, qub2)\n",
        "  if am_of_gates == 3:\n",
        "    qub1 = randint(0,amount_of_qubits-1)\n",
        "    qub2 = randint(0,amount_of_qubits-1)\n",
        "    while (qub2 == qub1):\n",
        "      qub2 = randint(0,amount_of_qubits-1)\n",
        "    qub3 = randint(0,amount_of_qubits-1)\n",
        "    while ((qub3 == qub1) or (qub3 == qub2)):\n",
        "      qub3 = randint(0,amount_of_qubits-1)\n",
        "    qub_type = randint(0,1)\n",
        "    if qub_type == 0:\n",
        "      qc.ccx(qub1,qub2,qub3)\n",
        "    if qub_type == 1:\n",
        "      qc.ccz(qub1,qub2,qub3)\n",
        "    #print (qub1, qub2, qub3)\n",
        "    \n",
        "\n"
      ],
      "metadata": {
        "colab": {
          "base_uri": "https://localhost:8080/"
        },
        "id": "mGQ-cxPasteo",
        "outputId": "d474c0d4-9437-42b4-ee98-9353ea285c0b"
      },
      "execution_count": 93,
      "outputs": [
        {
          "output_type": "stream",
          "name": "stdout",
          "text": [
            "1 3 2\n",
            "0 3 1\n",
            "1 2\n",
            "3 2 0\n",
            "1 2 0\n"
          ]
        }
      ]
    },
    {
      "cell_type": "code",
      "source": [
        "qc.draw('mpl')"
      ],
      "metadata": {
        "colab": {
          "base_uri": "https://localhost:8080/",
          "height": 320
        },
        "id": "lcnLPE_Du0yL",
        "outputId": "5a421e77-b16f-4e0c-92e5-005c95561b8b"
      },
      "execution_count": 94,
      "outputs": [
        {
          "output_type": "execute_result",
          "data": {
            "text/plain": [
              "<Figure size 1123.61x367.889 with 1 Axes>"
            ],
            "image/png": "[encoded data removed]"
          },
          "metadata": {},
          "execution_count": 94
        }
      ]
    }
  ]
}