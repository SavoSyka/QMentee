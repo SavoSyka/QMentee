{
  "nbformat": 4,
  "nbformat_minor": 0,
  "metadata": {
    "colab": {
      "provenance": [],
      "authorship_tag": "ABX9TyO8we0SdFPjgCtIHmBcLVn9",
      "include_colab_link": true
    },
    "kernelspec": {
      "name": "python3",
      "display_name": "Python 3"
    },
    "language_info": {
      "name": "python"
    }
  },
  "cells": [
    {
      "cell_type": "markdown",
      "metadata": {
        "id": "view-in-github",
        "colab_type": "text"
      },
      "source": [
        "<a href=\"https://colab.research.google.com/github/SavoSyka/QMentee/blob/main/Random_circuit_generator.ipynb\" target=\"_parent\"><img src=\"https://colab.research.google.com/assets/colab-badge.svg\" alt=\"Open In Colab\"/></a>"
      ]
    },
    {
      "cell_type": "code",
      "execution_count": 1,
      "metadata": {
        "colab": {
          "base_uri": "https://localhost:8080/"
        },
        "id": "Rl3icNd2rUwp",
        "outputId": "a52a0bff-68fd-47c5-eb54-3d4dff9f64db"
      },
      "outputs": [
        {
          "output_type": "stream",
          "name": "stdout",
          "text": [
            "  Preparing metadata (setup.py) ... \u001b[?25l\u001b[?25hdone\n",
            "\u001b[2K     \u001b[90m━━━━━━━━━━━━━━━━━━━━━━━━━━━━━━━━━━━━━━━━\u001b[0m \u001b[32m5.1/5.1 MB\u001b[0m \u001b[31m21.0 MB/s\u001b[0m eta \u001b[36m0:00:00\u001b[0m\n",
            "\u001b[2K     \u001b[90m━━━━━━━━━━━━━━━━━━━━━━━━━━━━━━━━━━━━━━━━\u001b[0m \u001b[32m12.8/12.8 MB\u001b[0m \u001b[31m54.7 MB/s\u001b[0m eta \u001b[36m0:00:00\u001b[0m\n",
            "\u001b[2K     \u001b[90m━━━━━━━━━━━━━━━━━━━━━━━━━━━━━━━━━━━━━━\u001b[0m \u001b[32m241.5/241.5 kB\u001b[0m \u001b[31m11.0 MB/s\u001b[0m eta \u001b[36m0:00:00\u001b[0m\n",
            "\u001b[2K     \u001b[90m━━━━━━━━━━━━━━━━━━━━━━━━━━━━━━━━━━━━━━━\u001b[0m \u001b[32m129.5/129.5 kB\u001b[0m \u001b[31m6.5 MB/s\u001b[0m eta \u001b[36m0:00:00\u001b[0m\n",
            "\u001b[2K     \u001b[90m━━━━━━━━━━━━━━━━━━━━━━━━━━━━━━━━━━━━━━━━\u001b[0m \u001b[32m1.9/1.9 MB\u001b[0m \u001b[31m33.7 MB/s\u001b[0m eta \u001b[36m0:00:00\u001b[0m\n",
            "\u001b[2K     \u001b[90m━━━━━━━━━━━━━━━━━━━━━━━━━━━━━━━━━━━━━━━\u001b[0m \u001b[32m110.5/110.5 kB\u001b[0m \u001b[31m4.7 MB/s\u001b[0m eta \u001b[36m0:00:00\u001b[0m\n",
            "\u001b[2K     \u001b[90m━━━━━━━━━━━━━━━━━━━━━━━━━━━━━━━━━━━━━━━━\u001b[0m \u001b[32m49.6/49.6 kB\u001b[0m \u001b[31m2.7 MB/s\u001b[0m eta \u001b[36m0:00:00\u001b[0m\n",
            "\u001b[2K     \u001b[90m━━━━━━━━━━━━━━━━━━━━━━━━━━━━━━━━━━━━━━━━\u001b[0m \u001b[32m49.6/49.6 kB\u001b[0m \u001b[31m2.2 MB/s\u001b[0m eta \u001b[36m0:00:00\u001b[0m\n",
            "\u001b[2K     \u001b[90m━━━━━━━━━━━━━━━━━━━━━━━━━━━━━━━━━━━━━━━━\u001b[0m \u001b[32m37.5/37.5 MB\u001b[0m \u001b[31m17.1 MB/s\u001b[0m eta \u001b[36m0:00:00\u001b[0m\n",
            "\u001b[2K     \u001b[90m━━━━━━━━━━━━━━━━━━━━━━━━━━━━━━━━━━━━━━━\u001b[0m \u001b[32m112.7/112.7 kB\u001b[0m \u001b[31m2.7 MB/s\u001b[0m eta \u001b[36m0:00:00\u001b[0m\n",
            "\u001b[?25h  Building wheel for qiskit (setup.py) ... \u001b[?25l\u001b[?25hdone\n",
            "\u001b[2K     \u001b[90m━━━━━━━━━━━━━━━━━━━━━━━━━━━━━━━━━━━━━━━\u001b[0m \u001b[32m162.6/162.6 kB\u001b[0m \u001b[31m4.0 MB/s\u001b[0m eta \u001b[36m0:00:00\u001b[0m\n",
            "\u001b[?25h  Preparing metadata (setup.py) ... \u001b[?25l\u001b[?25hdone\n",
            "  Building wheel for pylatexenc (setup.py) ... \u001b[?25l\u001b[?25hdone\n"
          ]
        }
      ],
      "source": [
        "! pip install qiskit --quiet\n",
        "! pip install pylatexenc --quiet\n",
        "     "
      ]
    },
    {
      "cell_type": "code",
      "source": [
        "from qiskit import QuantumCircuit, assemble, Aer\n",
        "from qiskit_aer import AerSimulator\n",
        "from qiskit.visualization import plot_histogram, plot_bloch_vector\n",
        "from math import sqrt, pi"
      ],
      "metadata": {
        "id": "FyElcPJ_rW94"
      },
      "execution_count": 2,
      "outputs": []
    },
    {
      "cell_type": "code",
      "source": [
        "\n",
        "from random import randint"
      ],
      "metadata": {
        "id": "OREvTZ6VrXVU"
      },
      "execution_count": 3,
      "outputs": []
    },
    {
      "cell_type": "code",
      "source": [
        "amount_of_qubits = randint(0, 10)\n",
        "amount_of_blocks = randint(5, 10)"
      ],
      "metadata": {
        "id": "9HoHntSargO6"
      },
      "execution_count": 11,
      "outputs": []
    },
    {
      "cell_type": "code",
      "source": [
        "qc = QuantumCircuit(amount_of_qubits)"
      ],
      "metadata": {
        "id": "p4ZGYdyQsdIY"
      },
      "execution_count": 28,
      "outputs": []
    },
    {
      "cell_type": "code",
      "source": [
        "qc.draw('mpl')"
      ],
      "metadata": {
        "colab": {
          "base_uri": "https://localhost:8080/",
          "height": 513
        },
        "id": "X3by5_8jsn0a",
        "outputId": "09f0098e-487c-439d-cd42-77dc0600e7f3"
      },
      "execution_count": 29,
      "outputs": [
        {
          "output_type": "execute_result",
          "data": {
            "text/plain": [
              "<Figure size 162.08x618.722 with 1 Axes>"
            ],
            "image/png": "[encoded data removed]"
          },
          "metadata": {},
          "execution_count": 29
        }
      ]
    },
    {
      "cell_type": "code",
      "source": [
        "for i in range (0, amount_of_blocks):\n",
        "  am_of_gates = randint(1, 3)\n",
        "  if am_of_gates == 1:\n",
        "    qub = randint(0,amount_of_qubits)\n",
        "    qub_type  = randint(0,8)\n",
        "    if qub_type == 0:\n",
        "      qc.id(qub)\n",
        "    if qub_type == 1:\n",
        "      qc.h(qub)\n",
        "    if qub_type == 2:\n",
        "      qc.x(qub)\n",
        "    if qub_type == 3:\n",
        "      qc.y(qub)\n",
        "    if qub_type == 4:\n",
        "      qc.z(qub)\n",
        "    if qub_type == 5:\n",
        "      qc.s(qub)\n",
        "    if qub_type == 6:\n",
        "      qc.sdg(qub)\n",
        "    if qub_type == 7:\n",
        "      qc.t(qub)\n",
        "    if qub_type == 8:\n",
        "      qc.tdg(qub)\n",
        "  if am_of_gates == 2:\n",
        "    qub1 = randint(0,amount_of_qubits)\n",
        "    qub2 = randint(0,amount_of_qubits)\n",
        "    while (qub2 == qub1):\n",
        "      qub2 = randint(0,amount_of_qubits)\n",
        "    qub_type = randint(0,3)\n",
        "    if qub_type == 0:\n",
        "      qc.cx(qub1, qub2)\n",
        "    if qub_type == 1:\n",
        "      qc.cz(qub1, qub2)\n",
        "    if qub_type == 2:\n",
        "      qc.swap(qub1, qub2)\n",
        "    if qub_type == 3:\n",
        "      qc.iswap(qub1, qub2)\n",
        "  if am_of_gates == 3:\n",
        "    qub1 = randint(0,amount_of_qubits)\n",
        "    qub2 = randint(0,amount_of_qubits)\n",
        "    while (qub2 == qub1):\n",
        "      qub2 = randint(0,amount_of_qubits)\n",
        "    qub3 = randint(0,amount_of_qubits)\n",
        "    while ((qub3 == qub1) or (qub3 == qub2)):\n",
        "      qub2 = randint(0,amount_of_qubits)\n",
        "    qub_type = randint(0,1)\n",
        "    if qub_type == 0:\n",
        "      qc.ccx(qub1,qub2,qub3)\n",
        "    if qub_type == 1:\n",
        "      qc.ccz(qub1,qub2,qub3)\n",
        "\n"
      ],
      "metadata": {
        "id": "mGQ-cxPasteo"
      },
      "execution_count": 31,
      "outputs": []
    },
    {
      "cell_type": "code",
      "source": [
        "qc.draw('mpl')"
      ],
      "metadata": {
        "colab": {
          "base_uri": "https://localhost:8080/",
          "height": 513
        },
        "id": "lcnLPE_Du0yL",
        "outputId": "ac752217-458f-4892-fb5b-d603b7949879"
      },
      "execution_count": 32,
      "outputs": [
        {
          "output_type": "execute_result",
          "data": {
            "text/plain": [
              "<Figure size 454.719x618.722 with 1 Axes>"
            ],
            "image/png": "[encoded data removed]"
          },
          "metadata": {},
          "execution_count": 32
        }
      ]
    }
  ]
}